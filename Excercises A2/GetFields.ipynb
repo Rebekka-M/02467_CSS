{
 "cells": [
  {
   "cell_type": "code",
   "execution_count": 2,
   "metadata": {},
   "outputs": [],
   "source": [
    "import pandas as pd\n",
    "import numpy as np\n",
    "import json\n",
    "from tqdm import tqdm\n",
    "\n",
    "# Read in the data\n",
    "Author = pd.read_excel('AuthorData.xlsx',index_col=0)\n",
    "Author.index = np.arange(len(Author))\n",
    "Paper = pd.read_excel('PaperData.xlsx',index_col=0)\n",
    "Paper.index = np.arange(len(Paper))"
   ]
  },
  {
   "cell_type": "code",
   "execution_count": 16,
   "metadata": {},
   "outputs": [
    {
     "name": "stderr",
     "output_type": "stream",
     "text": [
      "100%|██████████| 77547/77547 [00:03<00:00, 21541.65it/s]\n"
     ]
    }
   ],
   "source": [
    "list_authorID = []\n",
    "\n",
    "for idx in tqdm(range(len(Paper))):\n",
    "    temp = []\n",
    "    for Authordict in  eval(Paper['authors'][idx]):\n",
    "        if Authordict['authorId'] is not None:\n",
    "            temp.append(int(Authordict['authorId']))\n",
    "    list_authorID.append(temp)\n",
    "\n",
    "Paper['AuthorIDs'] = list_authorID"
   ]
  },
  {
   "cell_type": "code",
   "execution_count": 4,
   "metadata": {},
   "outputs": [
    {
     "name": "stderr",
     "output_type": "stream",
     "text": [
      "100%|██████████| 77547/77547 [00:00<00:00, 104637.56it/s]\n"
     ]
    }
   ],
   "source": [
    "Category = []\n",
    "CategoryUnique = []\n",
    "\n",
    "for idx in tqdm(range(len(Paper))):\n",
    "    Category.append([CategoryDict['category'] for CategoryDict in eval(Paper['s2FieldsOfStudy'][idx])])\n",
    "\n",
    "    for category in Category[idx]:\n",
    "        if category not in CategoryUnique:\n",
    "            CategoryUnique.append(category)\n",
    "\n",
    "Paper['Category'] = Category"
   ]
  },
  {
   "cell_type": "code",
   "execution_count": 5,
   "metadata": {},
   "outputs": [
    {
     "name": "stderr",
     "output_type": "stream",
     "text": [
      "3900it [01:14, 52.42it/s]\n"
     ]
    }
   ],
   "source": [
    "\n",
    "for idx,id in tqdm(enumerate(Author['AuthorID'])):\n",
    "\n",
    "    Category_counter = {category : 0 for category in CategoryUnique}\n",
    "\n",
    "    AuthorPaper = Paper[Paper['AuthorIDs'].apply(lambda x: str(id) in x)]\n",
    "\n",
    "    for paper_category in AuthorPaper['Category']:\n",
    "        for category in paper_category:\n",
    "            Category_counter[category] += 1\n",
    "    \n",
    "    counter = np.array(list(Category_counter.values()))\n",
    "\n",
    "    field = CategoryUnique[counter.argmax()] if counter.max() > 0 else 'None'\n",
    "\n",
    "    Author.iloc[idx,4] = field\n"
   ]
  },
  {
   "cell_type": "code",
   "execution_count": 18,
   "metadata": {},
   "outputs": [],
   "source": [
    "Author.to_excel('AuthorDatawithField.xlsx')\n",
    "Paper.to_excel('PaperDatawithAuthorID.xlsx')"
   ]
  },
  {
   "cell_type": "code",
   "execution_count": 19,
   "metadata": {},
   "outputs": [
    {
     "data": {
      "text/plain": [
       "['Business',\n",
       " 'Economics',\n",
       " 'Psychology',\n",
       " 'Biology',\n",
       " 'Sociology',\n",
       " 'Political Science',\n",
       " 'Law',\n",
       " 'Medicine',\n",
       " 'Chemistry',\n",
       " 'Mathematics',\n",
       " 'Materials Science',\n",
       " 'Education',\n",
       " 'Physics',\n",
       " 'Engineering',\n",
       " 'Computer Science',\n",
       " 'Environmental Science',\n",
       " 'Agricultural And Food Sciences',\n",
       " 'Geology',\n",
       " 'Art',\n",
       " 'Linguistics',\n",
       " 'Geography',\n",
       " 'Philosophy',\n",
       " 'History']"
      ]
     },
     "execution_count": 19,
     "metadata": {},
     "output_type": "execute_result"
    }
   ],
   "source": [
    "CategoryUnique"
   ]
  },
  {
   "cell_type": "code",
   "execution_count": null,
   "metadata": {},
   "outputs": [],
   "source": []
  }
 ],
 "metadata": {
  "kernelspec": {
   "display_name": ".venv",
   "language": "python",
   "name": "python3"
  },
  "language_info": {
   "codemirror_mode": {
    "name": "ipython",
    "version": 3
   },
   "file_extension": ".py",
   "mimetype": "text/x-python",
   "name": "python",
   "nbconvert_exporter": "python",
   "pygments_lexer": "ipython3",
   "version": "3.9.16"
  },
  "orig_nbformat": 4
 },
 "nbformat": 4,
 "nbformat_minor": 2
}
