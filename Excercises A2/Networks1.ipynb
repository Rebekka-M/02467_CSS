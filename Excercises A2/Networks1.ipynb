{
 "cells": [
  {
   "cell_type": "code",
   "execution_count": 13,
   "metadata": {},
   "outputs": [],
   "source": [
    "import pandas as pd\n",
    "import numpy as np\n",
    "from tqdm import tqdm\n",
    "\n",
    "# Read in the data\n",
    "Authors = pd.read_excel('AuthorDatawithField.xlsx', index_col=0)\n",
    "Papers = pd.read_excel('PaperDatawithAuthorID.xlsx', index_col=0)\n",
    "\n"
   ]
  },
  {
   "cell_type": "code",
   "execution_count": 2,
   "metadata": {},
   "outputs": [],
   "source": [
    "# Function to get the Field from list of Author IDs\n",
    "\n",
    "def get_fields(IDs : list) -> list:\n",
    "    if type(IDs) != list:\n",
    "        IDs = eval(IDs)\n",
    "    # Get the rows of the Authors table that match the IDs\n",
    "    rows = Authors[Authors['AuthorID'].isin(IDs)]\n",
    "    \n",
    "    # Get the list of fields\n",
    "    fields = rows['Field'].tolist()\n",
    "    \n",
    "    # Return the list of fields\n",
    "    return fields"
   ]
  },
  {
   "cell_type": "code",
   "execution_count": 3,
   "metadata": {},
   "outputs": [],
   "source": [
    "# apply Function to each paper to get the list of fields from Author IDs\n",
    "\n",
    "Papers['author_field'] = Papers['AuthorIDs'].apply(get_fields)"
   ]
  },
  {
   "cell_type": "code",
   "execution_count": 4,
   "metadata": {},
   "outputs": [],
   "source": [
    "# Define set for social science fields and qunatitative fields\n",
    "\n",
    "social_science_fields = ['Political Science','Sociology','Economics']\n",
    "qunatitative_fields = set(['Mathematics','Physics','Computer Science'])"
   ]
  },
  {
   "cell_type": "code",
   "execution_count": 5,
   "metadata": {},
   "outputs": [],
   "source": [
    "# Define function to determine if Paper is aplicable\n",
    "\n",
    "def is_applicable(paper):\n",
    "    # Get the list of fields\n",
    "    fields = paper['author_field']\n",
    "    paper_categories = eval(paper['Category'])\n",
    "    \n",
    "    # Check if any of the fields are in the social science fields\n",
    "    if not any(field in social_science_fields for field in paper_categories):\n",
    "        return False\n",
    "    \n",
    "    # Check if any of the fields are in the quantitative fields or one one author has top field in quantitative fields\n",
    "\n",
    "    is_quantitative = any(field in qunatitative_fields for field in paper_categories)\n",
    "    is_top_quantitative = any(field in qunatitative_fields for field in fields)\n",
    "\n",
    "    if not is_quantitative and not is_top_quantitative:\n",
    "        return False\n",
    "    \n",
    "    # See if fields contain Biology\n",
    "    if 'Biology' in fields:\n",
    "        return False\n",
    "    \n",
    "    # Check paper is less than 10 computational social science Authors\n",
    "    if len(eval(paper['AuthorIDs'])) > 10:\n",
    "        return False\n",
    "    \n",
    "    # Check if paper is published after 2008\n",
    "    if paper['year'] <= 2008:\n",
    "        return False\n",
    "    \n",
    "    # Check if paper has DOI\n",
    "    externals = eval(paper['externalIds'])\n",
    "    \n",
    "    if 'DOI' not in externals.keys():     \n",
    "        return False\n",
    "    \n",
    "    if externals['DOI'] is None:\n",
    "        return False\n",
    "    \n",
    "    # If all checks pass, return True\n",
    "    return True\n"
   ]
  },
  {
   "cell_type": "code",
   "execution_count": 6,
   "metadata": {},
   "outputs": [],
   "source": [
    "paper_is_applicable = []\n",
    "\n",
    "for idx,paper in Papers.iterrows():\n",
    "    paper_is_applicable.append(is_applicable(paper))\n",
    "\n",
    "\n",
    "ccs_papers = Papers[paper_is_applicable]\n",
    "ccs_papers.index = range(len(ccs_papers))"
   ]
  },
  {
   "cell_type": "code",
   "execution_count": 7,
   "metadata": {},
   "outputs": [
    {
     "data": {
      "text/plain": [
       "1214"
      ]
     },
     "execution_count": 7,
     "metadata": {},
     "output_type": "execute_result"
    }
   ],
   "source": [
    "unique_ccs_papers_authors = set(id for IDS  in ccs_papers['AuthorIDs'] for id in eval(IDS))\n",
    "len(unique_ccs_papers_authors)"
   ]
  },
  {
   "cell_type": "code",
   "execution_count": 24,
   "metadata": {},
   "outputs": [
    {
     "name": "stderr",
     "output_type": "stream",
     "text": [
      "644it [00:00, 12284.85it/s]"
     ]
    },
    {
     "name": "stdout",
     "output_type": "stream",
     "text": [
      "Understanding images of groups of people\n",
      "\n",
      "Quantifying Long-Term Scientific Impact\n",
      "\n",
      "Demographics and Dynamics of Mechanical Turk Workers\n",
      "\n",
      "The Leiden ranking 2011/2012: Data collection, indicators, and interpretation\n",
      "\n",
      "Towards a new crown indicator: Some theoretical considerations\n",
      "\n",
      "Cooperation and Contagion in Web-Based, Networked Public Goods Experiments\n",
      "\n",
      "Fake news on Twitter during the 2016 U.S. presidential election\n",
      "\n",
      "Economic Networks: The New Challenges\n",
      "\n",
      "Complexity theory and financial regulation\n",
      "\n",
      "Social Data: Biases, Methodological Pitfalls, and Ethical Boundaries\n",
      "\n"
     ]
    },
    {
     "name": "stderr",
     "output_type": "stream",
     "text": [
      "\n"
     ]
    }
   ],
   "source": [
    "elements = len(ccs_papers)\n",
    "\n",
    "for idx,paper in tqdm(ccs_papers.iterrows()):\n",
    "    greaterThan = (paper['citationCount'] > ccs_papers['citationCount']).sum() - elements\n",
    "    \n",
    "    if greaterThan > -11:\n",
    "        print(paper['title'])\n",
    "        print('')\n"
   ]
  },
  {
   "cell_type": "code",
   "execution_count": 25,
   "metadata": {},
   "outputs": [],
   "source": [
    "ccs_papers.to_excel('CCS_Papers.xlsx')"
   ]
  }
 ],
 "metadata": {
  "kernelspec": {
   "display_name": ".venv",
   "language": "python",
   "name": "python3"
  },
  "language_info": {
   "codemirror_mode": {
    "name": "ipython",
    "version": 3
   },
   "file_extension": ".py",
   "mimetype": "text/x-python",
   "name": "python",
   "nbconvert_exporter": "python",
   "pygments_lexer": "ipython3",
   "version": "3.9.16"
  },
  "orig_nbformat": 4
 },
 "nbformat": 4,
 "nbformat_minor": 2
}
