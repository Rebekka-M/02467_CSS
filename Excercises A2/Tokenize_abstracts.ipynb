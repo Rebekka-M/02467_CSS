{
 "cells": [
  {
   "cell_type": "code",
   "execution_count": null,
   "metadata": {},
   "outputs": [],
   "source": [
    "import numpy as np\n",
    "import pandas as pd\n",
    "import pickle as pkl\n",
    "import os\n",
    "import nltk, re\n",
    "from nltk.corpus import stopwords\n",
    "from nltk import word_tokenize"
   ]
  },
  {
   "cell_type": "code",
   "execution_count": null,
   "metadata": {},
   "outputs": [],
   "source": [
    "css_papers = pd.read_excel(\"CSS_Papers.xlsx\")\n",
    "css_papers.keywords = [eval(css_papers.keywords[i]) for i in range(len(css_papers))]\n",
    "css_papers.authorIds = [eval(css_papers.authorIds[i]) for i in range(len(css_papers))]\n",
    "css_papers.author_fields = [eval(css_papers.author_fields[i]) for i in range(len(css_papers))]\n",
    "css_papers"
   ]
  },
  {
   "cell_type": "code",
   "execution_count": null,
   "metadata": {},
   "outputs": [],
   "source": [
    "path = \"shared_data\\\\abstract_subset\\\\\"\n",
    "abstracts = pd.DataFrame(columns=['paperId','abstract','year'])\n",
    "\n",
    "for filename in os.listdir(path):\n",
    "    file = open(os.path.join(path, filename), 'rb')\n",
    "    abstracts = pd.concat([abstracts, pkl.load(file)], ignore_index=True)\n",
    "    file.close()\n",
    "\n",
    "abstracts = abstracts[abstracts.paperId.isin(css_papers.paperId.to_list())]\n",
    "abstracts.reset_index(drop=True, inplace=True)\n",
    "abstracts"
   ]
  },
  {
   "cell_type": "code",
   "execution_count": null,
   "metadata": {},
   "outputs": [],
   "source": [
    "def tokenize(text):\n",
    "    try:\n",
    "        # Remove URLs\n",
    "        text = re.sub('http[s]?://\\S+', '', text)\n",
    "\n",
    "        # Exclude punctuation and numbers and set everything to lower case.\n",
    "        text = word_tokenize(text)\n",
    "        text = [w.lower() for w in text if w.isalpha()]\n",
    "\n",
    "        # Exclude stopwords\n",
    "        text = [w for w in text if not w.lower() in set(stopwords.words('english'))]\n",
    "\n",
    "        # Save\n",
    "        return text\n",
    "    \n",
    "    except:\n",
    "        return None\n",
    "\n",
    "abstracts['tokens'] = abstracts.abstract.apply(tokenize)\n",
    "abstracts"
   ]
  },
  {
   "cell_type": "code",
   "execution_count": null,
   "metadata": {},
   "outputs": [],
   "source": [
    "abstracts.to_csv('CSS_Abstracts.csv')"
   ]
  }
 ],
 "metadata": {
  "language_info": {
   "name": "python"
  },
  "orig_nbformat": 4
 },
 "nbformat": 4,
 "nbformat_minor": 2
}
