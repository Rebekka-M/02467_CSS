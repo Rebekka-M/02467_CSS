{
 "cells": [
  {
   "cell_type": "code",
   "execution_count": 1,
   "metadata": {},
   "outputs": [],
   "source": [
    "import numpy as np\n",
    "import pandas as pd\n",
    "from bs4 import BeautifulSoup\n",
    "import requests\n",
    "import re\n",
    "import matplotlib.pyplot as plt\n",
    "import tqdm"
   ]
  },
  {
   "cell_type": "code",
   "execution_count": 2,
   "metadata": {},
   "outputs": [],
   "source": [
    "# Set the URL you want to webscrape from\n",
    "\n",
    "url_2021 = 'https://easychair.org/smart-program/IC2S2-2021/talk_author_index.html'\n",
    "\n",
    "url_2020 = 'https://ic2s2.mit.edu/program'\n",
    "url2_2020 = 'https://docs.google.com/spreadsheets/d/e/2PACX-1vTX9_1Xftn7D-nSI8X9b7tafr_Z0kAbphKdfZ8qUSU9p-syXNsGPdhHl5ZyTnKKL-T6dCEJqtsrn3wy/pubhtml?gid=181378784&amp;single=true&amp;widget=true&amp;headers=false'\n",
    "\n",
    "url_2019_oral = 'https://2019.ic2s2.org/oral-presentations/'\n",
    "url_2019_poster = 'https://2019.ic2s2.org/posters/'"
   ]
  },
  {
   "cell_type": "code",
   "execution_count": 3,
   "metadata": {},
   "outputs": [],
   "source": [
    "# Oral:\n",
    "oral_link = 'https://2019.ic2s2.org/oral-presentations/'\n",
    "oral_r = requests.get(oral_link)\n",
    "oral_soup = BeautifulSoup(oral_r.text)\n",
    "\n",
    "# Find the chair persons for each section\n",
    "chairs = [i.text.replace('<em>Chair:','').replace('Chair: ','') for i in oral_soup.find_all(\"em\")]\n",
    "\n",
    "# Define list for speakers and edge case wording found through quality check of final list\n",
    "oral_speakers = []\n",
    "edge_cases = ['No Presentation', 'No presentation', 'No Presentation (cancelled)',  'No presentation (cancelled)',\n",
    "              'Analyzing and Countermeasures', 'Policy Documents','and Twitter', 'UK and German Elections', 'collaboration',\n",
    "              'and impact', 'cultural and scientific careers','Places and People: strategies',\n",
    "              'limitations and trade-offs in the physical and digital worlds', 'which nodes should have the last word in multiplayer ultimatum bargaining?',\n",
    "              'Stable Exchange Networks through Quenched Merchant Location and Idiosyncratic Trading Costs','Connecting Degree Programs from Individuals’ Choices',\n",
    "              '000 Leagues Under the City','family and neighbor network','and Security']\n",
    "\n",
    "for i in oral_soup.find_all('p')[3:len(chairs)+3]:\n",
    "\n",
    "    # Split the program string into a list by looking at the the time stamps in the program\n",
    "    program = re.split('(?:[0-9])(?:[0-9]):(?:[0-9])(?:[0-9]) – (?:[0-9])(?:[0-9]):(?:[0-9])(?:[0-9]) – ',\n",
    "                   i.text)[1:]\n",
    "    \n",
    "    # Loop through the program list to find and split the speakers \n",
    "    for presentation in program:\n",
    "        for speaker in presentation.split(','):\n",
    "            # Remove space if there is a space at the front of the speaker name\n",
    "            if speaker[0] == ' ':\n",
    "                speaker = speaker[1:]\n",
    "            \n",
    "            # if the speaker name is longer then 20 characters, that is a pretty good indication that the string includes the title of the paper\n",
    "            # remove the paper title\n",
    "            if len(speaker) > 20:\n",
    "                speaker = speaker.split('.')[0]\n",
    "                speaker = speaker.split('–')[0]\n",
    "            \n",
    "            # Edge case handling\n",
    "            if ': ' in speaker:\n",
    "                speaker = speaker.split(': ')[-1]\n",
    "            \n",
    "            # Remove space at the end if present\n",
    "            if speaker[-1] == ' ':\n",
    "                speaker = speaker[:-1]\n",
    "            \n",
    "            # Last edgecase handling\n",
    "            if speaker not in edge_cases:\n",
    "                if speaker == 'James P':\n",
    "                    speaker = 'James P. Gleeson'\n",
    "                if speaker == '(Moved to 3D Text Analysis) Ivan Smirnov':\n",
    "                    speaker = 'Ivan Smirnov'\n",
    "                if speaker == 'Alex Pentland. Fair':\n",
    "                    speaker = 'Alex Pentland'\n",
    "                \n",
    "                # Save to speakers list \n",
    "                oral_speakers.append(speaker)"
   ]
  },
  {
   "cell_type": "code",
   "execution_count": 4,
   "metadata": {},
   "outputs": [],
   "source": [
    "# Poster:\n",
    "poster_link = 'https://2019.ic2s2.org/posters/'\n",
    "poster_r = requests.get(poster_link)\n",
    "poster_soup = BeautifulSoup(poster_r.text)\n",
    "\n",
    "# Define list for speakers and edge case titles found through quality check of final list\n",
    "poster_speakers = []\n",
    "edge_cases = ['Structure and Evolution of the Network of Countries Signing Global Environmental Treaties',\n",
    "              'Evolution of the Network of Countries Signing Global Environmental Treaties',\n",
    "              'Social capital at IC2S2: A network analysis of the conference participants between 2015-2018.',\n",
    "              'Invisible college in large co-authorship networks – iterative sampling approach',\n",
    "              'Founders Dynamics: Interpersonal Relationships and Between-Team Interaction in Early Startups',\n",
    "              'Bio, psycho or social – Discursive framing of depression in online health communities',\n",
    "              'Evolution of Employment in the United States: A Longitudinal Study of Job Polarisation',\n",
    "              'Tipping Points in Polarized Networks']\n",
    "\n",
    "# Loop through the posters found on the webpage\n",
    "for poster in poster_soup.find('div', class_=\"col-md-8 page-content-wrap\").find_all('li'):\n",
    "\n",
    "    # Cut the titles\n",
    "    speakers = poster.text.split('\\xa0')[0]\n",
    "    speakers = speakers.split('\\n')[0]\n",
    "\n",
    "    # Check that the \"found speaker\" is not one of the edge cases\n",
    "    if speakers not in edge_cases:\n",
    "        \n",
    "        # Split the speakers string into a speaker list\n",
    "        for speaker in speakers.split(','):\n",
    "\n",
    "            # Remove first letter if it is a space\n",
    "            if speaker[0] == ' ':\n",
    "                speaker = speaker[1:]\n",
    "            \n",
    "            # Separate speakers that are separated by an and\n",
    "            if 'and' in speaker:\n",
    "                for sp in speaker.split(' and '):\n",
    "                    # Save to speakers list\n",
    "                    poster_speakers.append(sp)\n",
    "            else:\n",
    "                # Save to speakers list\n",
    "                poster_speakers.append(speaker)"
   ]
  },
  {
   "cell_type": "code",
   "execution_count": 8,
   "metadata": {},
   "outputs": [],
   "source": [
    "# Get data from 2020\n",
    "r = requests.get(url2_2020)\n",
    "soup = BeautifulSoup(r.content)\n",
    "table = soup.find(\"table\",{\"class\":\"waffle\"})\n",
    "table = table.find(\"tbody\")\n",
    "table_rows = table.find_all(\"tr\")\n",
    "\n",
    "# Get header\n",
    "ths = table_rows[0].find_all(\"td\")\n",
    "header = [th.text for th in ths]\n",
    "\n",
    "\n",
    "# Get data\n",
    "data = []\n",
    "for tr in table_rows[1:]:\n",
    "    tds = tr.find_all(\"td\")\n",
    "    row = [td.text for td in tds]\n",
    "    data.append(row)\n",
    "\n",
    "# Convert to dataframe\n",
    "df2020 = pd.DataFrame(data, columns=header)\n",
    "\n",
    "# Add 2020 data\n",
    "speakers_2020 = []\n",
    "for idx,row in df2020.iterrows():\n",
    "    for reasearcher in row['Presenters'].split(', '):\n",
    "        speakers_2020.append(reasearcher)\n"
   ]
  },
  {
   "cell_type": "code",
   "execution_count": 10,
   "metadata": {},
   "outputs": [],
   "source": [
    "r = requests.get(url_2021)\n",
    "soup = BeautifulSoup(r.content)\n",
    "table = soup.find(\"table\",{\"class\":\"index\"})\n",
    "rows = table.find_all(\"tr\")\n",
    "\n",
    "speakers_2021 = []\n",
    "for row in rows[1:]:\n",
    "    try: \n",
    "        name = row.find(\"td\",{\"class\":\"name\"}).text.split(\", \")\n",
    "    except:\n",
    "        continue\n",
    "    \n",
    "    #print(name)\n",
    "    Author = f\"{name[1]} {name[0]}\"\n",
    "    speakers_2021.append(Author)"
   ]
  },
  {
   "cell_type": "code",
   "execution_count": 12,
   "metadata": {},
   "outputs": [
    {
     "name": "stdout",
     "output_type": "stream",
     "text": [
      "Total number of speakers: 3287\n"
     ]
    }
   ],
   "source": [
    "all_speakers = oral_speakers + poster_speakers + speakers_2020 + speakers_2021\n",
    "print(f\"Total number of speakers: {len(all_speakers)}\")"
   ]
  },
  {
   "cell_type": "code",
   "execution_count": 17,
   "metadata": {},
   "outputs": [
    {
     "name": "stdout",
     "output_type": "stream",
     "text": [
      "Total number of unique speakers: 2211\n"
     ]
    }
   ],
   "source": [
    "all_unique_speakers = list(set(all_speakers))\n",
    "print(f\"Total number of unique speakers: {len(all_unique_speakers)}\")"
   ]
  },
  {
   "cell_type": "code",
   "execution_count": 28,
   "metadata": {},
   "outputs": [],
   "source": [
    "import pickle as pl\n",
    "\n",
    "with open('all_unique_speakers.pkl', 'wb') as f:\n",
    "    pl.dump(all_unique_speakers, f)"
   ]
  },
  {
   "cell_type": "code",
   "execution_count": 21,
   "metadata": {},
   "outputs": [
    {
     "ename": "TypeError",
     "evalue": "'NoneType' object is not iterable",
     "output_type": "error",
     "traceback": [
      "\u001b[0;31m---------------------------------------------------------------------------\u001b[0m",
      "\u001b[0;31mTypeError\u001b[0m                                 Traceback (most recent call last)",
      "Cell \u001b[0;32mIn[21], line 1\u001b[0m\n\u001b[0;32m----> 1\u001b[0m \u001b[39mfor\u001b[39;00m _ \u001b[39min\u001b[39;00m all_unique_speakers\u001b[39m.\u001b[39mremove(\u001b[39m'\u001b[39m\u001b[39m'\u001b[39m):\n\u001b[1;32m      2\u001b[0m     \u001b[39mprint\u001b[39m(_)\n",
      "\u001b[0;31mTypeError\u001b[0m: 'NoneType' object is not iterable"
     ]
    }
   ],
   "source": []
  },
  {
   "cell_type": "code",
   "execution_count": null,
   "metadata": {},
   "outputs": [],
   "source": [
    "for"
   ]
  },
  {
   "cell_type": "code",
   "execution_count": null,
   "metadata": {},
   "outputs": [],
   "source": []
  }
 ],
 "metadata": {
  "kernelspec": {
   "display_name": ".venv",
   "language": "python",
   "name": "python3"
  },
  "language_info": {
   "codemirror_mode": {
    "name": "ipython",
    "version": 3
   },
   "file_extension": ".py",
   "mimetype": "text/x-python",
   "name": "python",
   "nbconvert_exporter": "python",
   "pygments_lexer": "ipython3",
   "version": "3.9.16"
  },
  "orig_nbformat": 4,
  "vscode": {
   "interpreter": {
    "hash": "91823aae033cba56c7b743eb47cfa3653ee08d54379123fa1674c74b8558bca9"
   }
  }
 },
 "nbformat": 4,
 "nbformat_minor": 2
}
