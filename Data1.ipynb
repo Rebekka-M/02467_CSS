{
 "cells": [
  {
   "cell_type": "code",
   "execution_count": 2,
   "metadata": {},
   "outputs": [],
   "source": [
    "# load packages\n",
    "import pandas as pd\n",
    "import requests\n",
    "import pickle\n",
    "\n",
    "with open(\"researchears_unique.pkl\", \"rb\") as f:\n",
    "    researches_unique = pickle.load(f)"
   ]
  },
  {
   "cell_type": "code",
   "execution_count": 2,
   "metadata": {},
   "outputs": [
    {
     "data": {
      "text/plain": [
       "'Alex Pentland'"
      ]
     },
     "execution_count": 2,
     "metadata": {},
     "output_type": "execute_result"
    }
   ],
   "source": [
    "researches_unique[0]"
   ]
  },
  {
   "cell_type": "code",
   "execution_count": 3,
   "metadata": {},
   "outputs": [],
   "source": [
    "# Get unique authors ID's\n",
    "\n",
    "ID_list = []\n",
    "\n",
    "for author in researches_unique:\n",
    "    try:\n",
    "        first, last = author.split(\" \")\n",
    "        response = requests.get(f'https://api.semanticscholar.org/graph/v1/author/search?query={first.lower()}+{last.lower()}')\n",
    "        #Data = pd.DataFrame.from_dict(response.text)\n",
    "        Query = response.json()\n",
    "        for API_value in Query['data']:\n",
    "            ID_list.append(API_value['authorId'])\n",
    "    except:\n",
    "        continue"
   ]
  },
  {
   "cell_type": "code",
   "execution_count": 20,
   "metadata": {},
   "outputs": [
    {
     "data": {
      "text/plain": [
       "1875"
      ]
     },
     "execution_count": 20,
     "metadata": {},
     "output_type": "execute_result"
    }
   ],
   "source": [
    "with open(\"ID_list.pkl\", \"wb\") as f:\n",
    "    pickle.dump(ID_list, f)\n",
    "\n",
    "len(ID_list)"
   ]
  },
  {
   "cell_type": "code",
   "execution_count": 3,
   "metadata": {},
   "outputs": [],
   "source": [
    "with open(\"ID_list.pkl\", \"rb\") as f:\n",
    "    ID_list = pickle.load(f)"
   ]
  },
  {
   "cell_type": "code",
   "execution_count": 4,
   "metadata": {},
   "outputs": [],
   "source": [
    "# Get Author dataset, Paperdataset and Abstract\n",
    "\n",
    "AuthorData = pd.DataFrame(columns=['AuthorID', 'Name', 'Aliases', 'CitationCount','Field'])\n",
    "PaperData = pd.DataFrame(columns=['paperId', 'title', 'abstract', 'year','externalIds','citationCount', 'authors','s2FieldsOfStudy'])\n",
    "AbstractData = pd.DataFrame(columns=['PaperID', 'Abstract'])\n",
    "\n",
    "i = 0\n",
    "\n",
    "for ID in ID_list:\n",
    "    try:\n",
    "        response = requests.get(f'https://api.semanticscholar.org/graph/v1/author/{ID}?fields=authorId,name,externalIds,aliases,citationCount,affiliations,papers.paperId,papers.title,papers.year,papers.externalIds,papers.citationCount,papers.abstract,papers.authors,papers.s2FieldsOfStudy')\n",
    "        Query = response.json()\n",
    "\n",
    "        AuthorData = pd.concat([AuthorData,\n",
    "                                pd.DataFrame.from_dict([{'AuthorID': Query['authorId'], 'Name': Query['name'], 'Aliases': Query['aliases'], 'CitationCount': Query['citationCount'], 'Field': None}])])\n",
    "\n",
    "        #Data = pd.DataFrame.from_dict(Query[])\n",
    "\n",
    "        Papers = pd.DataFrame(Query['papers'])\n",
    "        \n",
    "        PaperData = pd.concat([PaperData, Papers])\n",
    "    except:\n",
    "        continue\n",
    "\n"
   ]
  },
  {
   "cell_type": "code",
   "execution_count": 5,
   "metadata": {},
   "outputs": [],
   "source": [
    "# Clean Data\n",
    "AbstractData = PaperData[['paperId', 'abstract']]\n",
    "PaperData = PaperData.drop(['abstract'], axis=1)\n",
    "\n",
    "AuthorData.to_excel('AuthorData.xlsx')\n",
    "PaperData.to_excel('PaperData.xlsx')\n",
    "AbstractData.to_excel('AbstractData.xlsx')"
   ]
  },
  {
   "cell_type": "code",
   "execution_count": null,
   "metadata": {},
   "outputs": [],
   "source": [
    "\n"
   ]
  },
  {
   "cell_type": "code",
   "execution_count": null,
   "metadata": {},
   "outputs": [],
   "source": []
  }
 ],
 "metadata": {
  "kernelspec": {
   "display_name": ".venv",
   "language": "python",
   "name": "python3"
  },
  "language_info": {
   "codemirror_mode": {
    "name": "ipython",
    "version": 3
   },
   "file_extension": ".py",
   "mimetype": "text/x-python",
   "name": "python",
   "nbconvert_exporter": "python",
   "pygments_lexer": "ipython3",
   "version": "3.9.16"
  },
  "orig_nbformat": 4,
  "vscode": {
   "interpreter": {
    "hash": "91823aae033cba56c7b743eb47cfa3653ee08d54379123fa1674c74b8558bca9"
   }
  }
 },
 "nbformat": 4,
 "nbformat_minor": 2
}
